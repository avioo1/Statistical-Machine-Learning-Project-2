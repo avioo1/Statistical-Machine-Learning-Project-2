{
 "cells": [
  {
   "cell_type": "markdown",
   "metadata": {},
   "source": [
    "# COMP90051 Project 2"
   ]
  },
  {
   "cell_type": "code",
   "execution_count": 23,
   "metadata": {},
   "outputs": [],
   "source": [
    "# Do not edit. These are the only imports permitted.\n",
    "%matplotlib inline\n",
    "import numpy as np\n",
    "from numpy.linalg import inv\n",
    "import matplotlib.pyplot as plt\n",
    "from abc import ABC, abstractmethod"
   ]
  },
  {
   "cell_type": "markdown",
   "metadata": {},
   "source": [
    "## 1. Implementing ε-Greedy and UCB"
   ]
  },
  {
   "cell_type": "code",
   "execution_count": 24,
   "metadata": {},
   "outputs": [],
   "source": [
    "class MAB(ABC):\n",
    "    \"\"\"\n",
    "    Abstract class that represents a multi-armed bandit (MAB)\n",
    "    \"\"\"\n",
    "    \n",
    "    @abstractmethod\n",
    "    def play(self, tround, context):\n",
    "        \"\"\"\n",
    "        Play a round\n",
    "        \n",
    "        Arguments\n",
    "        =========\n",
    "        tround : int\n",
    "            positive integer identifying the round\n",
    "        \n",
    "        context : 1D float array, shape (self.ndims * self.narms), optional\n",
    "            context given to the arms\n",
    "        \n",
    "        Returns\n",
    "        =======\n",
    "        arm : int\n",
    "            the positive integer arm id for this round\n",
    "        \"\"\"\n",
    "    \n",
    "    @abstractmethod\n",
    "    def update(self, arm, reward, context):\n",
    "        \"\"\"\n",
    "        Updates the internal state of the MAB after a play\n",
    "        \n",
    "        Arguments\n",
    "        =========\n",
    "        arm : int\n",
    "            a positive integer arm id in {1, ..., self.narms}\n",
    "        \n",
    "        reward : float\n",
    "            reward received from arm\n",
    "        \n",
    "        context : 1D float array, shape (self.ndims * self.narms), optional\n",
    "            context given to arms\n",
    "        \"\"\""
   ]
  },
  {
   "cell_type": "code",
   "execution_count": 25,
   "metadata": {},
   "outputs": [],
   "source": [
    "class EpsGreedy(MAB):\n",
    "    \"\"\"\n",
    "    Epsilon-Greedy multi-armed bandit\n",
    "\n",
    "    Arguments\n",
    "    =========\n",
    "    narms : int\n",
    "        number of arms\n",
    "\n",
    "    epsilon : float\n",
    "        explore probability\n",
    "\n",
    "    Q0 : float, optional\n",
    "        initial value for the arms\n",
    "    \"\"\"\n",
    "    \n",
    "    def __init__(self, narms, epsilon, Q0=np.inf):\n",
    "        self.narms = narms\n",
    "        self.epsilon = epsilon\n",
    "        #initialization the value of Q0 to infinity and creating a list Qstore\n",
    "        \n",
    "        self.Qstore = [0]*narms\n",
    "        for every in range(narms):\n",
    "            self.Qstore[every] += Q0\n",
    "        #For every number of arms creating a list of arm rewards\n",
    "        self.arm_rewards = [[] for every in range(narms)]\n",
    "        self.rewards = []\n",
    "        \n",
    "    def play(self, tround, context=None):\n",
    "        \n",
    "        #selecting random numbers  between 0 to 1\n",
    "        #applying  explore or exploit condition\n",
    "        if np.random.random() > self.epsilon: # exploit\n",
    "            max_qvalue = max(self.Qstore)\n",
    "            arm = [every + 1 for every in range(len(self.Qstore)) if self.Qstore[every] == max_qvalue]\n",
    "            arm=np.random.choice(arm) # in case of tie braek, randomly select largest value\n",
    "        else:  # explore\n",
    "            attribute1 = 1\n",
    "            attribute2 = self.narms + 1\n",
    "            arm = np.random.randint(attribute1, attribute2)\n",
    "        return arm\n",
    "        \n",
    "    def update(self, arm, reward, context=None):\n",
    "        self.rewards = [*self.rewards,reward] # computing reward for arms\n",
    "        self.arm_rewards[arm - 1].append(reward)\n",
    "        self.Qstore[arm - 1] = np.mean(self.arm_rewards[arm - 1])\n",
    "        "
   ]
  },
  {
   "cell_type": "code",
   "execution_count": 26,
   "metadata": {},
   "outputs": [],
   "source": [
    "class UCB(MAB):\n",
    "    \"\"\"\n",
    "    Upper Confidence Bound (UCB) multi-armed bandit\n",
    "\n",
    "    Arguments\n",
    "    =========\n",
    "    narms : int\n",
    "        number of arms\n",
    "\n",
    "    rho : float\n",
    "        positive real explore-exploit parameter\n",
    "\n",
    "    Q0 : float, optional\n",
    "        initial value for the arms\n",
    "    \"\"\"\n",
    "    \n",
    "    def __init__(self, narms, rho, Q0=np.inf):\n",
    "        self.narms = narms\n",
    "        self.rho = rho\n",
    "        self.Q0 = Q0\n",
    "        #intialization the value of Q0 to infinity and creating a list Qstore\n",
    "        self.Qstore = [0]*narms\n",
    "        for every in range(narms):\n",
    "            self.Qstore[every] += Q0\n",
    "        #creating a list of arm rewards for number of arms\n",
    "        self.arm_rewards = [[] for every in range(narms)]\n",
    "        self.rewards = []\n",
    "    \n",
    "    def play(self, tround, context=None):\n",
    "        for every in range(0, self.narms):\n",
    "            if self.Qstore[every] != self.Q0:\n",
    "                #apply formula of UCB\n",
    "                var = self.arm_rewards[every]\n",
    "                var_1 = np.log(tround)\n",
    "                var_2 = len(var)\n",
    "                self.Qstore[every] = np.mean(var) + (self.rho * var_1 / var_2) ** 0.5\n",
    "        # computing maximum of Qs\n",
    "        max_qvalue = max(self.Qstore)\n",
    "        arm = [every + 1 for every in range(0, self.narms) if self.Qstore[every] == max_qvalue]\n",
    "        arm=np.random.choice(arm)  # in case of tie braek, randomly select largest value\n",
    "        return arm\n",
    "        \n",
    "    def update(self, arm, reward, context=None):\n",
    "        self.rewards = [*self.rewards,reward] # computing reward for arms\n",
    "        self.arm_rewards[arm - 1].append(reward)\n",
    "        self.Qstore[arm - 1] = np.mean(self.arm_rewards[arm - 1])\n",
    "        "
   ]
  },
  {
   "cell_type": "markdown",
   "metadata": {},
   "source": [
    "## 2. The Basic Thompson Bandit"
   ]
  },
  {
   "cell_type": "code",
   "execution_count": 27,
   "metadata": {},
   "outputs": [],
   "source": [
    "class BetaThompson(MAB):\n",
    "    \"\"\"\n",
    "    Beta-Bernoulli Thompson sampling multi-armed bandit\n",
    "\n",
    "    Arguments\n",
    "    =========\n",
    "    narms : int\n",
    "        number of arms\n",
    "\n",
    "    alpha0 : float, optional\n",
    "        positive real prior hyperparameter\n",
    "\n",
    "    beta0 : float, optional\n",
    "        positive real prior hyperparameter\n",
    "    \"\"\"\n",
    "    \n",
    "    def __init__(self, narms, alpha0=1.0, beta0=1.0):\n",
    "        self.narms = narms\n",
    "        self.alpha0 = alpha0\n",
    "        self.beta0 = beta0\n",
    "        # initialization s as list of alpha0 and f as list of beta0\n",
    "        self.s= []         \n",
    "        for every in range(narms):\n",
    "            self.s.append(alpha0)\n",
    "        self.f = [beta0] * narms\n",
    "        self.rewards = []\n",
    "    \n",
    "    def play(self, tround, context=None):\n",
    "        \"\"\"\n",
    "        creating a b_list of zero for number of arms\n",
    "        and computing sample of beta distribution using list of s and f\n",
    "        \n",
    "        \"\"\"\n",
    "        \n",
    "        b_list=[np.random.beta(self.s[every], self.f[every]) for every in range(self.narms)]\n",
    "        max_beta = max(b_list) #calculate maximum of beta\n",
    "        arm=[every + 1 for every in range(len(b_list)) if b_list[every]==max_beta]\n",
    "        arm=np.random.choice(arm)  # in case of tie braek, randomly select largest value\n",
    "        return arm\n",
    "        \n",
    "    def update(self, arm, reward, context=None):\n",
    "        #compute reward for narms and if reward is zero then increment f by one else increment s by one\n",
    "        self.rewards = [*self.rewards,reward] \n",
    "        num = 1\n",
    "        if reward != num:\n",
    "            self.f[arm - 1] += num\n",
    "        else:\n",
    "            self.s[arm-1] += num"
   ]
  },
  {
   "cell_type": "markdown",
   "metadata": {},
   "source": [
    "## 3. Off-Policy Evaluation"
   ]
  },
  {
   "cell_type": "code",
   "execution_count": 28,
   "metadata": {},
   "outputs": [],
   "source": [
    "dataset = np.loadtxt('dataset.txt') #intializing tha dataset given for project2\n",
    "\n",
    "# changing the value of arms to integer\n",
    "arms = dataset[:,0].astype(int)\n",
    "rewards = dataset[:,1]\n",
    "contexts = dataset[:,2:102]\n",
    "\n",
    "def offlineEvaluate(mab, arms, rewards, contexts, nrounds=None):\n",
    "    \"\"\"\n",
    "    Offline evaluation of a multi-armed bandit\n",
    "    \n",
    "    Arguments\n",
    "    =========\n",
    "    mab : instance of MAB\n",
    "    \n",
    "    arms : 1D int array, shape (nevents,) \n",
    "        integer arm id for each event\n",
    "    \n",
    "    rewards : 1D float array, shape (nevents,)\n",
    "        reward received for each event\n",
    "    \n",
    "    contexts : 2D float array, shape (nevents, mab.narms*nfeatures)\n",
    "        contexts presented to the arms (stacked horizontally) \n",
    "        for each event.\n",
    "        \n",
    "    nrounds : int, optional\n",
    "        number of matching events to evaluate `mab` on.\n",
    "    \n",
    "    Returns\n",
    "    =======\n",
    "    out : 1D float array\n",
    "        rewards for the matching events\n",
    "    \"\"\"\n",
    "    arms_index = 0\n",
    "    # initialization the total number of lines that is available in the data set \n",
    "    dataset_row = 10000\n",
    "    for every in range(nrounds):\n",
    "        while arms_index < dataset_row:\n",
    "            con = contexts[arms_index]\n",
    "            if arms[arms_index] != mab.play(every,con):\n",
    "                arms_index= arms_index + 1\n",
    "                continue\n",
    "            else:\n",
    "                mab.update(arms[arms_index],int(rewards[arms_index]),con)\n",
    "                arms_index = arms_index + 1\n",
    "                break\n",
    "        if arms_index>=len(arms):\n",
    "            break\n",
    "    return mab.rewards"
   ]
  },
  {
   "cell_type": "code",
   "execution_count": 29,
   "metadata": {},
   "outputs": [
    {
     "name": "stdout",
     "output_type": "stream",
     "text": [
      "EpsGreedy average reward 0.27\n"
     ]
    }
   ],
   "source": [
    "mab = EpsGreedy(10, 0.05)\n",
    "results_EpsGreedy = offlineEvaluate(mab, arms, rewards, contexts, 800)\n",
    "print('EpsGreedy average reward', np.mean(results_EpsGreedy))"
   ]
  },
  {
   "cell_type": "code",
   "execution_count": 35,
   "metadata": {},
   "outputs": [
    {
     "name": "stdout",
     "output_type": "stream",
     "text": [
      "UCB average reward 0.18125\n"
     ]
    }
   ],
   "source": [
    "mab = UCB(10, 1.0)\n",
    "results_UCB = offlineEvaluate(mab, arms, rewards, contexts, 800)\n",
    "print('UCB average reward', np.mean(results_UCB))"
   ]
  },
  {
   "cell_type": "code",
   "execution_count": 31,
   "metadata": {},
   "outputs": [
    {
     "name": "stdout",
     "output_type": "stream",
     "text": [
      "BetaThompson average reward 0.2275\n"
     ]
    }
   ],
   "source": [
    "mab = BetaThompson(10, 1.0, 1.0)\n",
    "results_BetaThompson = offlineEvaluate(mab, arms, rewards, contexts, 800)\n",
    "print('BetaThompson average reward', np.mean(results_BetaThompson))"
   ]
  },
  {
   "cell_type": "markdown",
   "metadata": {},
   "source": [
    "## 4. Contextual Bandits - LinUCB"
   ]
  },
  {
   "cell_type": "code",
   "execution_count": 36,
   "metadata": {},
   "outputs": [],
   "source": [
    "class LinUCB(MAB):\n",
    "    \"\"\"\n",
    "    Contextual multi-armed bandit (LinUCB)\n",
    "\n",
    "    Arguments\n",
    "    =========\n",
    "    narms : int\n",
    "        number of arms\n",
    "\n",
    "    ndims : int\n",
    "        number of dimensions for each arm's context\n",
    "\n",
    "    alpha : float\n",
    "        positive real explore-exploit parameter\n",
    "    \"\"\"\n",
    "    \n",
    "    def __init__(self, narms, ndims, alpha):\n",
    "        self.narms = narms\n",
    "        self.ndims = ndims\n",
    "        self.alpha = alpha\n",
    "        self.A = [np.identity(ndims) for every in range(narms)] #initialization the identity matrix of size of dimension of arms context\n",
    "        #intiliaziting zero matrix and reshaping into size of(ndims,1) \n",
    "        self.B = [0]*narms\n",
    "        for every in range(narms):\n",
    "            self.B[every] = np.zeros(ndims).reshape((self.ndims,1))\n",
    "        self.rewards = []\n",
    "        \n",
    "    def play(self, tround, context):\n",
    "        store_list = []\n",
    "        for every in range(self.narms):\n",
    "            value_x = np.array(context[every*self.ndims:(every+1)*self.ndims])\n",
    "            # applying linear UCB algorithm\n",
    "            # transposing matrix x \n",
    "            x_transpose = value_x.T\n",
    "            #inversing matrix A\n",
    "            inverse_matrixA = inv(self.A[every])\n",
    "            #calculating theta\n",
    "            theta = inverse_matrixA@self.B[every]\n",
    "            #transposing theta\n",
    "            theta_transpose = theta.T\n",
    "            store_list.append(theta_transpose@value_x + self.alpha * ((x_transpose @ inverse_matrixA) @ value_x)**0.5)\n",
    "        maximum_val = max(store_list) #calculate maximum value\n",
    "        arm=[every + 1 for every in range(0,self.narms) if store_list[every]==maximum_val]\n",
    "         # in case of tie braek, randomly select largest value  \n",
    "        return np.random.choice(arm)\n",
    "    \n",
    "    def update(self, arm, reward, context):\n",
    "        # computing reward for arms\n",
    "        self.rewards = [*self.rewards,reward]\n",
    "        reshape = context[(arm-1)*self.ndims:arm*self.ndims]\n",
    "        value_x = reshape.reshape((self.ndims,1))\n",
    "        x_transpose = value_x.T\n",
    "        #updating A and B according to algorithm\n",
    "        self.A[arm-1] = self.A[arm-1] + np.matmul(value_x,x_transpose)\n",
    "        self.B[arm - 1] = self.B[arm - 1] + (reward * value_x)\n",
    "    "
   ]
  },
  {
   "cell_type": "code",
   "execution_count": 37,
   "metadata": {},
   "outputs": [
    {
     "name": "stdout",
     "output_type": "stream",
     "text": [
      "LinUCB average reward 0.53\n"
     ]
    }
   ],
   "source": [
    "mab = LinUCB(10, 10, 1.0)\n",
    "results_LinUCB = offlineEvaluate(mab, arms, rewards, contexts, 800)\n",
    "print('LinUCB average reward', np.mean(results_LinUCB))"
   ]
  },
  {
   "cell_type": "markdown",
   "metadata": {},
   "source": [
    "## 5. Contextual Bandits - LinThompson"
   ]
  },
  {
   "cell_type": "code",
   "execution_count": 38,
   "metadata": {},
   "outputs": [],
   "source": [
    "class LinThompson(MAB):\n",
    "    \"\"\"\n",
    "    Contextual Thompson sampled multi-armed bandit (LinThompson)\n",
    "\n",
    "    Arguments\n",
    "    =========\n",
    "    narms : int\n",
    "        number of arms\n",
    "\n",
    "    ndims : int\n",
    "        number of dimensions for each arm's context\n",
    "\n",
    "    v : float\n",
    "        positive real explore-exploit parameter\n",
    "    \"\"\"\n",
    "    \n",
    "    def __init__(self, narms, ndims, v):\n",
    "        self.narms = narms\n",
    "        self.ndims = ndims\n",
    "        self.v = v\n",
    "        #initializing B as identity matrix of size of ndims\n",
    "        self.B =np.identity(ndims)\n",
    "         #intializing f as zero matrix of size of ndims\n",
    "        self.f = np.zeros(ndims)\n",
    "        self.rewards=[]\n",
    "        \n",
    "    def play(self, tround, context):\n",
    "         \n",
    "        #inverse matrix B using inv\n",
    "        inverse_matrixB = inv(self.B)\n",
    "        #applying Linear Thompson algorithm\n",
    "        multiply = np.random.multivariate_normal((inverse_matrixB @ self.f), self.v * inverse_matrixB)\n",
    "        score_value = np.matmul(context.reshape(self.narms,self.ndims),multiply)\n",
    "        maximum_val = max(score_value) # calculate maximum value\n",
    "        arm=[ every + 1 for every in range(len(score_value)) if score_value[every]==maximum_val]\n",
    "        # in case of tie braek, randomly select largest value \n",
    "        return np.random.choice(arm)\n",
    "    \n",
    "    def update(self, arm, reward, context):\n",
    "        # computing reward for arms\n",
    "        self.rewards = [*self.rewards,reward]\n",
    "        #updating f and B according to algorithm\n",
    "        self.f += reward * context.reshape(self.narms,self.ndims)[arm-1]\n",
    "        self.B+=np.matmul(context.reshape(self.narms,self.ndims)[arm-1],context.reshape(self.narms,self.ndims)[arm-1].T)\n",
    "    "
   ]
  },
  {
   "cell_type": "code",
   "execution_count": 40,
   "metadata": {},
   "outputs": [
    {
     "name": "stdout",
     "output_type": "stream",
     "text": [
      "LinThompson average reward 0.3625\n"
     ]
    }
   ],
   "source": [
    "mab = LinThompson(10, 10, 1.0)\n",
    "results_LinThompson = offlineEvaluate(mab, arms, rewards, contexts, 800)\n",
    "print('LinThompson average reward', np.mean(results_LinThompson))"
   ]
  },
  {
   "cell_type": "markdown",
   "metadata": {},
   "source": [
    "## 6. Evaluation\n",
    "### 6.A."
   ]
  },
  {
   "cell_type": "code",
   "execution_count": 41,
   "metadata": {},
   "outputs": [
    {
     "data": {
      "image/png": "[encoded data removed]",
      "text/plain": [
       "<Figure size 432x288 with 1 Axes>"
      ]
     },
     "metadata": {
      "needs_background": "light"
     },
     "output_type": "display_data"
    }
   ],
   "source": [
    "# generating a function to save list of results to plot the graph\n",
    "def assign(results):\n",
    "    value = 0\n",
    "    reward = []\n",
    "    for each in range(0,len(results)):\n",
    "        increment = each+1\n",
    "        division = value/(increment)\n",
    "        value = value + results[each]\n",
    "        reward = [*reward,division]\n",
    "    return reward\n",
    "# calculating the mean reward of each algorithm\n",
    "line_EpsGreedy = assign(results_EpsGreedy)\n",
    "#created a graph to plot all the points\n",
    "plt.plot(line_EpsGreedy,label = 'Epsilon_Greedy', color = \"blue\" )\n",
    "line_UCB = assign(results_UCB)\n",
    "plt.plot(line_UCB,label = 'UCB', color = \"orange\")\n",
    "line_BetaThompson = assign(results_BetaThompson)\n",
    "plt.plot(line_BetaThompson,label = 'Beta_Thompson', color = \"green\")\n",
    "line_LinUCB = assign(results_LinUCB)\n",
    "plt.plot(line_LinUCB,label = 'Linear_UCB', color = \"red\")\n",
    "line_LinThompson = assign(results_LinThompson)\n",
    "plt.plot(line_LinThompson,label = 'Linear_Thompson', color = \"violet\")\n",
    "plt.xlabel(\"Output Reward\")\n",
    "plt.ylabel(\"T_round\")\n",
    "plt.legend()\n",
    "plt.show()"
   ]
  },
  {
   "cell_type": "markdown",
   "metadata": {},
   "source": [
    "### 6.B."
   ]
  },
  {
   "cell_type": "code",
   "execution_count": 42,
   "metadata": {},
   "outputs": [
    {
     "name": "stdout",
     "output_type": "stream",
     "text": [
      "Linear_UCB best alpha: 0.2\n",
      "Linear_UCB best rewards: 0.6775\n",
      "Linear_Thompson best v: 15.2\n",
      "Linear_Thompson best rewards:: 0.3625\n"
     ]
    }
   ],
   "source": [
    "# compute best alpha and mean result for LinUCB\n",
    "alpha = np.arange(0,20,0.2)\n",
    "mean_reward=0\n",
    "for every in alpha:\n",
    "    results_LinUCB = offlineEvaluate(LinUCB(10, 10, every), arms, rewards, contexts, 800)\n",
    "    if np.mean(results_LinUCB)>mean_reward:\n",
    "        mean_reward= np.mean(results_LinUCB)\n",
    "        best_alpha = every\n",
    "print('Linear_UCB best alpha:',best_alpha)\n",
    "print('Linear_UCB best rewards:',mean_reward)\n",
    "\n",
    "# compute best v and mean result for LinThompson\n",
    "best_reward=0\n",
    "v = np.arange(0,20,0.2)\n",
    "for every in v:\n",
    "    results_LinThompson = offlineEvaluate(LinThompson(10, 10, every), arms, rewards, contexts, 800)\n",
    "    if np.mean(results_LinThompson)>best_reward:\n",
    "        best_reward= np.mean(results_LinThompson)\n",
    "        best_v = every\n",
    "print('Linear_Thompson best v:',round(best_v,4))\n",
    "print('Linear_Thompson best rewards::',best_reward)"
   ]
  },
  {
   "cell_type": "code",
   "execution_count": null,
   "metadata": {},
   "outputs": [],
   "source": []
  }
 ],
 "metadata": {
  "kernelspec": {
   "display_name": "Python 3",
   "language": "python",
   "name": "python3"
  },
  "language_info": {
   "codemirror_mode": {
    "name": "ipython",
    "version": 3
   },
   "file_extension": ".py",
   "mimetype": "text/x-python",
   "name": "python",
   "nbconvert_exporter": "python",
   "pygments_lexer": "ipython3",
   "version": "3.7.4"
  }
 },
 "nbformat": 4,
 "nbformat_minor": 2
}
